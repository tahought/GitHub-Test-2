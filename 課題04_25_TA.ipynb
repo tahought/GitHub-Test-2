{
  "cells": [
    {
      "cell_type": "markdown",
      "metadata": {
        "id": "view-in-github",
        "colab_type": "text"
      },
      "source": [
        "<a href=\"https://colab.research.google.com/github/tahought/GitHub-Test-2/blob/main/%E8%AA%B2%E9%A1%8C04_25_TA.ipynb\" target=\"_parent\"><img src=\"https://colab.research.google.com/assets/colab-badge.svg\" alt=\"Open In Colab\"/></a>"
      ]
    },
    {
      "cell_type": "markdown",
      "metadata": {
        "id": "EnMqIC7OaqQh"
      },
      "source": [
        "\n",
        "\n",
        "\n",
        "\n",
        "\n",
        "\n",
        "\n",
        "\n",
        "\n",
        "\n",
        "\n",
        "\n",
        "\n",
        "\n",
        "\n",
        "\n",
        "\n",
        "\n",
        "# **1人なんじゃもんじゃ**\n",
        "\n",
        "## **概要**\n",
        "1人でなんじゃもんじゃをすることができるプログラムです。\n",
        "最初に表示される４匹のキャラクターに名前を付けます。各キャラクターが出てきたときに自分が付けた名前を答えて、その答えが正解か不正解を求めることができます。\n",
        "自分でカードの枚数を設定することができます。\n",
        "\n",
        "\n",
        "## **操作方法**\n",
        "\n",
        "最初にタートルグラフィックスをインストールします。その次に「名前決め」を実行します。実行すると、4匹のキャラクターが順番に表示されるので、各キャラクターにinputで名前を入力します。（数字、アルファベット、漢字、平仮名、、、なんでもいけます）\n",
        "名前決めが終わった後は、「ゲームへようこそ」を実行して、自分が何枚のカードでプレイするのかをinputで入力します。（枚数は4の倍数のみ）そして、「ゲームスタート」を実行すると、出てくるキャラクターとinputで自分が付けた名前が一致するかのゲームができます。\n",
        "\n",
        "\n",
        "## **制作者のコメント**\n",
        "注目ポイントはすべてのキャラクターを自分で考えたことです。自分で座標を指定して、ペンを操作するタートルグラフィックスを使用したので、1匹に作るのに20分くらいかかりました。工夫ポイントはプレイヤーがプレイ枚数を決めることができる部分です。リストとinputをうまく使うことができているところを見て欲しいです。苦労したところは絵とinputで決めた名前を繋げる部分です。最初は変数にタートルの動きを入れる、辞書型にしてみたりしたのですが、エラーが出続けたので、if文を使いました。最初はなんじゃもんじゃ作れないなと思っていたが、自分で考えて可能にすることができ、プログラミングの力が少しついてきたのを実感できた。\n",
        "\n",
        "\n",
        "## **作成時間**\n",
        "\n",
        "作成時間：**約２０時間**\n",
        "\n",
        "\n",
        "\n",
        "\n",
        "\n",
        "\n",
        "\n",
        "\n",
        "\n"
      ]
    },
    {
      "cell_type": "code",
      "source": [
        "from google.colab import drive\n",
        "drive.mount('/content/drive')"
      ],
      "metadata": {
        "id": "5btCE_bLFh7s"
      },
      "execution_count": null,
      "outputs": []
    },
    {
      "cell_type": "markdown",
      "metadata": {
        "id": "bvllGFUUQAtj"
      },
      "source": [
        "# **タートルグラフィックス**"
      ]
    },
    {
      "cell_type": "code",
      "execution_count": null,
      "metadata": {
        "colab": {
          "base_uri": "https://localhost:8080/"
        },
        "id": "iziCx1fAn9y5",
        "outputId": "6d7a80c2-a87b-4789-8438-61dedb973921"
      },
      "outputs": [
        {
          "name": "stdout",
          "output_type": "stream",
          "text": [
            "Collecting ColabTurtle\n",
            "  Downloading ColabTurtle-2.1.0.tar.gz (6.8 kB)\n",
            "  Preparing metadata (setup.py) ... \u001b[?25l\u001b[?25hdone\n",
            "Building wheels for collected packages: ColabTurtle\n",
            "  Building wheel for ColabTurtle (setup.py) ... \u001b[?25l\u001b[?25hdone\n",
            "  Created wheel for ColabTurtle: filename=ColabTurtle-2.1.0-py3-none-any.whl size=7642 sha256=fa0bc8d2da10611a5ceb89de26b4633e47300104b2d77b0751cb520e814f3556\n",
            "  Stored in directory: /root/.cache/pip/wheels/5b/86/e8/54f5c8c853606e3a3060bb2e60363cbed632374a12e0f33ffc\n",
            "Successfully built ColabTurtle\n",
            "Installing collected packages: ColabTurtle\n",
            "Successfully installed ColabTurtle-2.1.0\n"
          ]
        }
      ],
      "source": [
        "!pip install ColabTurtle\n"
      ]
    },
    {
      "cell_type": "markdown",
      "metadata": {
        "id": "ol9KtP4U8Eef"
      },
      "source": [
        "# ***名前決め***"
      ]
    },
    {
      "cell_type": "code",
      "execution_count": null,
      "metadata": {
        "colab": {
          "base_uri": "https://localhost:8080/",
          "height": 728
        },
        "id": "bdku8qp2qXKn",
        "outputId": "3741b122-cf62-4a6e-f121-e2153b85e569"
      },
      "outputs": [
        {
          "data": {
            "text/html": [
              "\n",
              "      <svg width=\"400\" height=\"400\">\n",
              "        <rect width=\"100%\" height=\"100%\" fill=\"rgb(0,0,0)\"/>\n",
              "        <line x1=\"100\" y1=\"50\" x2=\"300\" y2=\"50\" stroke-linecap=\"round\" style=\"stroke:rgb(0,255,255);stroke-width:4\"/><line x1=\"300\" y1=\"50\" x2=\"300\" y2=\"350\" stroke-linecap=\"round\" style=\"stroke:rgb(0,255,255);stroke-width:4\"/><line x1=\"300\" y1=\"350\" x2=\"100\" y2=\"350\" stroke-linecap=\"round\" style=\"stroke:rgb(0,255,255);stroke-width:4\"/><line x1=\"100\" y1=\"350\" x2=\"100\" y2=\"50\" stroke-linecap=\"round\" style=\"stroke:rgb(0,255,255);stroke-width:4\"/><line x1=\"100\" y1=\"50\" x2=\"200\" y2=\"50\" stroke-linecap=\"round\" style=\"stroke:rgb(0,255,255);stroke-width:4\"/><line x1=\"200\" y1=\"50\" x2=\"200\" y2=\"30\" stroke-linecap=\"round\" style=\"stroke:rgb(0,255,255);stroke-width:4\"/><line x1=\"150\" y1=\"140\" x2=\"150\" y2=\"160\" stroke-linecap=\"round\" style=\"stroke:rgb(0,255,255);stroke-width:4\"/><line x1=\"250\" y1=\"140\" x2=\"250\" y2=\"160\" stroke-linecap=\"round\" style=\"stroke:rgb(0,255,255);stroke-width:4\"/><line x1=\"100\" y1=\"250\" x2=\"30\" y2=\"300\" stroke-linecap=\"round\" style=\"stroke:rgb(0,255,255);stroke-width:4\"/><line x1=\"300\" y1=\"250\" x2=\"370\" y2=\"300\" stroke-linecap=\"round\" style=\"stroke:rgb(0,255,255);stroke-width:4\"/><line x1=\"150\" y1=\"250\" x2=\"150\" y2=\"300\" stroke-linecap=\"round\" style=\"stroke:rgb(0,255,255);stroke-width:4\"/><line x1=\"250\" y1=\"250\" x2=\"250\" y2=\"300\" stroke-linecap=\"round\" style=\"stroke:rgb(0,255,255);stroke-width:4\"/><line x1=\"150\" y1=\"275\" x2=\"250\" y2=\"275\" stroke-linecap=\"round\" style=\"stroke:rgb(0,255,255);stroke-width:4\"/><line x1=\"100\" y1=\"200\" x2=\"300\" y2=\"200\" stroke-linecap=\"round\" style=\"stroke:rgb(0,255,255);stroke-width:4\"/>\n",
              "        <g visibility=visible transform=\"rotate(360,300,200) translate(282, 182)\">\n",
              "<path style=\" stroke:none;fill-rule:evenodd;fill:rgb(0,255,255);fill-opacity:1;\" d=\"M 18.214844 0.632812 C 16.109375 1.800781 15.011719 4.074219 15.074219 7.132812 L 15.085938 7.652344 L 14.785156 7.496094 C 13.476562 6.824219 11.957031 6.671875 10.40625 7.066406 C 8.46875 7.550781 6.515625 9.15625 4.394531 11.992188 C 3.0625 13.777344 2.679688 14.636719 3.042969 15.027344 L 3.15625 15.152344 L 3.519531 15.152344 C 4.238281 15.152344 4.828125 14.886719 8.1875 13.039062 C 9.386719 12.378906 10.371094 11.839844 10.378906 11.839844 C 10.386719 11.839844 10.355469 11.929688 10.304688 12.035156 C 9.832031 13.09375 9.257812 14.820312 8.96875 16.078125 C 7.914062 20.652344 8.617188 24.53125 11.070312 27.660156 C 11.351562 28.015625 11.363281 27.914062 10.972656 28.382812 C 8.925781 30.84375 7.945312 33.28125 8.238281 35.1875 C 8.289062 35.527344 8.28125 35.523438 8.917969 35.523438 C 10.941406 35.523438 13.074219 34.207031 15.136719 31.6875 C 15.359375 31.417969 15.328125 31.425781 15.5625 31.574219 C 16.292969 32.042969 18.023438 32.964844 18.175781 32.964844 C 18.335938 32.964844 19.941406 32.210938 20.828125 31.71875 C 20.996094 31.625 21.136719 31.554688 21.136719 31.558594 C 21.203125 31.664062 21.898438 32.414062 22.222656 32.730469 C 23.835938 34.300781 25.5625 35.132812 27.582031 35.300781 C 27.90625 35.328125 27.9375 35.308594 28.007812 34.984375 C 28.382812 33.242188 27.625 30.925781 25.863281 28.425781 L 25.542969 27.96875 L 25.699219 27.785156 C 28.945312 23.960938 29.132812 18.699219 26.257812 11.96875 L 26.207031 11.84375 L 27.945312 12.703125 C 31.53125 14.476562 32.316406 14.800781 33.03125 14.800781 C 33.976562 14.800781 33.78125 13.9375 32.472656 12.292969 C 28.519531 7.355469 25.394531 5.925781 21.921875 7.472656 L 21.558594 7.636719 L 21.578125 7.542969 C 21.699219 6.992188 21.761719 5.742188 21.699219 5.164062 C 21.496094 3.296875 20.664062 1.964844 19.003906 0.855469 C 18.480469 0.503906 18.457031 0.5 18.214844 0.632812\"/>\n",
              "</g>\n",
              "      </svg>\n",
              "    "
            ],
            "text/plain": [
              "<IPython.core.display.HTML object>"
            ]
          },
          "metadata": {},
          "output_type": "display_data"
        },
        {
          "name": "stdout",
          "output_type": "stream",
          "text": [
            "こいつの名前を決めてください\n",
            "緑\n",
            "もんじゃ：こいつの名前は緑や！！\n",
            "\n",
            "こやつの名前を決めてください\n",
            "黄色\n",
            "もんじゃ：こやつの名前は黄色や！！\n",
            "\n",
            "こいつの名前を決めてください\n",
            "水色\n",
            "もんじゃ：こいつの名前は水色や！！\n",
            "\n",
            "奴の名前を決めてください\n",
            "水色\n",
            "もんじゃ：奴の名前は水色や！！\n",
            "\n",
            "下の「ゲームへようこそ！！」を実行や！！！\n"
          ]
        }
      ],
      "source": [
        "%reset -f\n",
        "import random\n",
        "import ColabTurtle.Turtle as t\n",
        "t.initializeTurtle(initial_speed=10,initial_window_size=(400,400))\n",
        "\n",
        "\n",
        "numbers = [1, 2, 3, 4]\n",
        "random_numbers = []\n",
        "\n",
        "while numbers:\n",
        "    t.clear()\n",
        "    t.up(); t.goto(200,200);t.down()\n",
        "    choice = random.choice(numbers)\n",
        "    random_numbers.append(choice)\n",
        "    numbers.remove(choice)\n",
        "    if choice == 1:\n",
        "       t.bgcolor(0,0,0)\n",
        "       t.color(0,255,0)\n",
        "       t.up(); t.goto(50,50);t.down()\n",
        "       t.goto(350,50)\n",
        "       t.goto(350,350)\n",
        "       t.goto(50,350)\n",
        "       t.goto(50,50)\n",
        "       t.goto(50,200)\n",
        "       t.goto(350,200)\n",
        "       t.goto(290,200)\n",
        "       t.goto(290,350)\n",
        "       t.goto(160,200)\n",
        "       t.goto(50,350)\n",
        "       t.up(); t.goto(150,140);t.down()\n",
        "       t.goto(150,160)\n",
        "       t.up(); t.goto(250,140);t.down()\n",
        "       t.goto(250,160)\n",
        "       t.up(); t.goto(50,250);t.down()\n",
        "       t.goto(30,300)\n",
        "       t.up(); t.goto(350,250);t.down()\n",
        "       t.goto(370,300)\n",
        "       print(\"こいつの名前を決めてください\")\n",
        "       name1 = input()\n",
        "       print(f\"もんじゃ：こいつの名前は{name1}や！！\")\n",
        "       print(\"\")\n",
        "    elif choice == 2:\n",
        "       t.bgcolor(0,0,0)\n",
        "       t.color(255,255,0)\n",
        "       t.up(); t.goto(50,50);t.down()\n",
        "       t.goto(350,50)\n",
        "       t.goto(350,200)\n",
        "       t.goto(50,200)\n",
        "       t.goto(50,50)\n",
        "       t.up(); t.goto(50,50);t.down()\n",
        "       t.up(); t.goto(150,100);t.down()\n",
        "       t.goto(150,150)\n",
        "       t.up(); t.goto(275,100);t.down()\n",
        "       t.goto(250,125)\n",
        "       t.goto(275,150)\n",
        "       t.up(); t.goto(50,140);t.down()\n",
        "       t.goto(30,160)\n",
        "       t.up(); t.goto(350,140);t.down()\n",
        "       t.goto(370,160)\n",
        "       t.up(); t.goto(150,200);t.down()\n",
        "       t.goto(150,350)\n",
        "       t.up(); t.goto(250,200);t.down()\n",
        "       t.goto(250,300)\n",
        "       t.goto(300,250)\n",
        "       print(\"こやつの名前を決めてください\")\n",
        "       name2 = input()\n",
        "       print(f\"もんじゃ：こやつの名前は{name2}や！！\" )\n",
        "       print(\"\")\n",
        "    elif choice == 3:\n",
        "      t.bgcolor(0,0,0)\n",
        "      t.color(0,255,255)\n",
        "      t.up(); t.goto(50,50);t.down()\n",
        "      t.goto(350,50)\n",
        "      t.goto(350,350)\n",
        "      t.goto(50,350)\n",
        "      t.goto(50,50)\n",
        "      t.goto(50,120)\n",
        "      t.goto(100,120)\n",
        "      t.goto(100,70)\n",
        "      t.goto(150,70)\n",
        "      t.goto(150,170)\n",
        "      t.goto(100,170)\n",
        "      t.goto(100,120)\n",
        "      t.up(); t.goto(350,120);t.down()\n",
        "      t.goto(300,120)\n",
        "      t.goto(300,70)\n",
        "      t.goto(250,70)\n",
        "      t.goto(250,170)\n",
        "      t.goto(300,170)\n",
        "      t.goto(300,120)\n",
        "      t.up(); t.goto(150,120);t.down()\n",
        "      t.goto(250,120)\n",
        "      t.up(); t.goto(150,200);t.down()\n",
        "      t.goto(250,200)\n",
        "      t.up(); t.goto(50,250);t.down()\n",
        "      t.goto(30,300)\n",
        "      t.up(); t.goto(350,250);t.down()\n",
        "      t.goto(370,300)\n",
        "      print(\"こいつの名前を決めてください\")\n",
        "      name3 = input()\n",
        "      print(f\"もんじゃ：こいつの名前は{name3}や！！\")\n",
        "      print(\"\")\n",
        "    elif choice == 4:\n",
        "      t.bgcolor(0,0,0)\n",
        "      t.color(0,255,255)\n",
        "      t.up(); t.goto(100,50);t.down()\n",
        "      t.goto(300,50)\n",
        "      t.goto(300,350)\n",
        "      t.goto(100,350)\n",
        "      t.goto(100,50)\n",
        "      t.goto(200,50)\n",
        "      t.goto(200,30)\n",
        "      t.up(); t.goto(150,140);t.down()\n",
        "      t.goto(150,160)\n",
        "      t.up(); t.goto(250,140);t.down()\n",
        "      t.goto(250,160)\n",
        "      t.up(); t.goto(100,250);t.down()\n",
        "      t.goto(30,300)\n",
        "      t.up(); t.goto(300,250);t.down()\n",
        "      t.goto(370,300)\n",
        "      t.up(); t.goto(150,250);t.down()\n",
        "      t.goto(150,300)\n",
        "      t.up(); t.goto(250,250);t.down()\n",
        "      t.goto(250,300)\n",
        "      t.up(); t.goto(150,275);t.down()\n",
        "      t.goto(250,275)\n",
        "      t.up(); t.goto(100,200);t.down()\n",
        "      t.goto(300,200)\n",
        "      print(\"奴の名前を決めてください\")\n",
        "      name4 = input()\n",
        "      print(f\"もんじゃ：奴の名前は{name4}や！！\" )\n",
        "      print(\"\")\n",
        "\n",
        "print(\"下の「ゲームへようこそ！！」を実行や！！！\")\n",
        "\n"
      ]
    },
    {
      "cell_type": "markdown",
      "metadata": {
        "id": "MxdutYU98OGH"
      },
      "source": [
        "# ***ゲームへようこそ！！　＊先に名前決めを終わらせてください***"
      ]
    },
    {
      "cell_type": "code",
      "execution_count": null,
      "metadata": {
        "colab": {
          "base_uri": "https://localhost:8080/"
        },
        "id": "1GMgYKe_8ZuM",
        "outputId": "0105789a-d9de-42c6-d01c-5ebbc9a77d18"
      },
      "outputs": [
        {
          "name": "stdout",
          "output_type": "stream",
          "text": [
            "もんじゃ：ようこそ！！\n",
            "もんじゃ：何枚でプレイしたい？？カードが4枚だから4の倍数を答えてね！4\n",
            "もんじゃ：カードは全部で4枚だよ！さぁゲームを始めよう！！\n"
          ]
        }
      ],
      "source": [
        "print(\"もんじゃ：ようこそ！！\")\n",
        "\n",
        "while True:\n",
        "    num = input(\"もんじゃ：何枚でプレイしたい？？カードが4枚だから4の倍数を答えてね！\")\n",
        "    num = int(num)\n",
        "    if num % 4 != 0:\n",
        "         print(\"入力された数は4の倍数じゃないよ。もう一度入力してね！\")\n",
        "    else:\n",
        "        print(f'もんじゃ：カードは全部で{num}枚だよ！さぁゲームを始めよう！！')\n",
        "        x = num // 4\n",
        "        break"
      ]
    },
    {
      "cell_type": "markdown",
      "metadata": {
        "id": "Lik-cx9GgzPp"
      },
      "source": [
        "# **ゲームスタート！！**"
      ]
    },
    {
      "cell_type": "code",
      "execution_count": null,
      "metadata": {
        "colab": {
          "base_uri": "https://localhost:8080/",
          "height": 511
        },
        "id": "x8xqcixKstll",
        "outputId": "5c4bf312-95a6-4e7f-d51f-5add65da7b45"
      },
      "outputs": [
        {
          "data": {
            "text/html": [
              "\n",
              "      <svg width=\"400\" height=\"400\">\n",
              "        <rect width=\"100%\" height=\"100%\" fill=\"rgb(0,0,0)\"/>\n",
              "        <line x1=\"50\" y1=\"50\" x2=\"350\" y2=\"50\" stroke-linecap=\"round\" style=\"stroke:rgb(0,255,255);stroke-width:4\"/><line x1=\"350\" y1=\"50\" x2=\"350\" y2=\"350\" stroke-linecap=\"round\" style=\"stroke:rgb(0,255,255);stroke-width:4\"/><line x1=\"350\" y1=\"350\" x2=\"50\" y2=\"350\" stroke-linecap=\"round\" style=\"stroke:rgb(0,255,255);stroke-width:4\"/><line x1=\"50\" y1=\"350\" x2=\"50\" y2=\"50\" stroke-linecap=\"round\" style=\"stroke:rgb(0,255,255);stroke-width:4\"/><line x1=\"50\" y1=\"50\" x2=\"50\" y2=\"120\" stroke-linecap=\"round\" style=\"stroke:rgb(0,255,255);stroke-width:4\"/><line x1=\"50\" y1=\"120\" x2=\"100\" y2=\"120\" stroke-linecap=\"round\" style=\"stroke:rgb(0,255,255);stroke-width:4\"/><line x1=\"100\" y1=\"120\" x2=\"100\" y2=\"70\" stroke-linecap=\"round\" style=\"stroke:rgb(0,255,255);stroke-width:4\"/><line x1=\"100\" y1=\"70\" x2=\"150\" y2=\"70\" stroke-linecap=\"round\" style=\"stroke:rgb(0,255,255);stroke-width:4\"/><line x1=\"150\" y1=\"70\" x2=\"150\" y2=\"170\" stroke-linecap=\"round\" style=\"stroke:rgb(0,255,255);stroke-width:4\"/><line x1=\"150\" y1=\"170\" x2=\"100\" y2=\"170\" stroke-linecap=\"round\" style=\"stroke:rgb(0,255,255);stroke-width:4\"/><line x1=\"100\" y1=\"170\" x2=\"100\" y2=\"120\" stroke-linecap=\"round\" style=\"stroke:rgb(0,255,255);stroke-width:4\"/><line x1=\"350\" y1=\"120\" x2=\"300\" y2=\"120\" stroke-linecap=\"round\" style=\"stroke:rgb(0,255,255);stroke-width:4\"/><line x1=\"300\" y1=\"120\" x2=\"300\" y2=\"70\" stroke-linecap=\"round\" style=\"stroke:rgb(0,255,255);stroke-width:4\"/><line x1=\"300\" y1=\"70\" x2=\"250\" y2=\"70\" stroke-linecap=\"round\" style=\"stroke:rgb(0,255,255);stroke-width:4\"/><line x1=\"250\" y1=\"70\" x2=\"250\" y2=\"170\" stroke-linecap=\"round\" style=\"stroke:rgb(0,255,255);stroke-width:4\"/><line x1=\"250\" y1=\"170\" x2=\"300\" y2=\"170\" stroke-linecap=\"round\" style=\"stroke:rgb(0,255,255);stroke-width:4\"/><line x1=\"300\" y1=\"170\" x2=\"300\" y2=\"120\" stroke-linecap=\"round\" style=\"stroke:rgb(0,255,255);stroke-width:4\"/><line x1=\"150\" y1=\"120\" x2=\"250\" y2=\"120\" stroke-linecap=\"round\" style=\"stroke:rgb(0,255,255);stroke-width:4\"/><line x1=\"150\" y1=\"200\" x2=\"250\" y2=\"200\" stroke-linecap=\"round\" style=\"stroke:rgb(0,255,255);stroke-width:4\"/><line x1=\"50\" y1=\"250\" x2=\"30\" y2=\"300\" stroke-linecap=\"round\" style=\"stroke:rgb(0,255,255);stroke-width:4\"/><line x1=\"350\" y1=\"250\" x2=\"370\" y2=\"300\" stroke-linecap=\"round\" style=\"stroke:rgb(0,255,255);stroke-width:4\"/>\n",
              "        <g visibility=visible transform=\"rotate(360,370,300) translate(352, 282)\">\n",
              "<path style=\" stroke:none;fill-rule:evenodd;fill:rgb(0,255,255);fill-opacity:1;\" d=\"M 18.214844 0.632812 C 16.109375 1.800781 15.011719 4.074219 15.074219 7.132812 L 15.085938 7.652344 L 14.785156 7.496094 C 13.476562 6.824219 11.957031 6.671875 10.40625 7.066406 C 8.46875 7.550781 6.515625 9.15625 4.394531 11.992188 C 3.0625 13.777344 2.679688 14.636719 3.042969 15.027344 L 3.15625 15.152344 L 3.519531 15.152344 C 4.238281 15.152344 4.828125 14.886719 8.1875 13.039062 C 9.386719 12.378906 10.371094 11.839844 10.378906 11.839844 C 10.386719 11.839844 10.355469 11.929688 10.304688 12.035156 C 9.832031 13.09375 9.257812 14.820312 8.96875 16.078125 C 7.914062 20.652344 8.617188 24.53125 11.070312 27.660156 C 11.351562 28.015625 11.363281 27.914062 10.972656 28.382812 C 8.925781 30.84375 7.945312 33.28125 8.238281 35.1875 C 8.289062 35.527344 8.28125 35.523438 8.917969 35.523438 C 10.941406 35.523438 13.074219 34.207031 15.136719 31.6875 C 15.359375 31.417969 15.328125 31.425781 15.5625 31.574219 C 16.292969 32.042969 18.023438 32.964844 18.175781 32.964844 C 18.335938 32.964844 19.941406 32.210938 20.828125 31.71875 C 20.996094 31.625 21.136719 31.554688 21.136719 31.558594 C 21.203125 31.664062 21.898438 32.414062 22.222656 32.730469 C 23.835938 34.300781 25.5625 35.132812 27.582031 35.300781 C 27.90625 35.328125 27.9375 35.308594 28.007812 34.984375 C 28.382812 33.242188 27.625 30.925781 25.863281 28.425781 L 25.542969 27.96875 L 25.699219 27.785156 C 28.945312 23.960938 29.132812 18.699219 26.257812 11.96875 L 26.207031 11.84375 L 27.945312 12.703125 C 31.53125 14.476562 32.316406 14.800781 33.03125 14.800781 C 33.976562 14.800781 33.78125 13.9375 32.472656 12.292969 C 28.519531 7.355469 25.394531 5.925781 21.921875 7.472656 L 21.558594 7.636719 L 21.578125 7.542969 C 21.699219 6.992188 21.761719 5.742188 21.699219 5.164062 C 21.496094 3.296875 20.664062 1.964844 19.003906 0.855469 C 18.480469 0.503906 18.457031 0.5 18.214844 0.632812\"/>\n",
              "</g>\n",
              "      </svg>\n",
              "    "
            ],
            "text/plain": [
              "<IPython.core.display.HTML object>"
            ]
          },
          "metadata": {},
          "output_type": "display_data"
        },
        {
          "metadata": {
            "tags": null
          },
          "name": "stdout",
          "output_type": "stream",
          "text": [
            "こいつの名前を答えてください。　　＊答えられない場合は「give」と入力してください\n",
            "もんじゃ：正解やでー！！\n",
            "\n",
            "こいつの名前を答えてください。　　＊答えられない場合は「give」と入力してください\n"
          ]
        }
      ],
      "source": [
        "cards = [1, 2, 3, 4] *x\n",
        "\n",
        "while cards:\n",
        "    t.clear()\n",
        "    choice_card = random.choice(cards)\n",
        "    cards.remove(choice_card)\n",
        "\n",
        "    #print(\"選ばれたカード:\", choice_card)  どのカードがあるのか、選ばれたのか確認用\n",
        "    #print(\"残りのカード:\", cards)\n",
        "\n",
        "    if choice_card == 1:\n",
        "       t.bgcolor(0,0,0)\n",
        "       t.color(0,255,0)\n",
        "       t.up(); t.goto(50,50);t.down()\n",
        "       t.goto(350,50)\n",
        "       t.goto(350,350)\n",
        "       t.goto(50,350)\n",
        "       t.goto(50,50)\n",
        "       t.goto(50,200)\n",
        "       t.goto(350,200)\n",
        "       t.goto(290,200)\n",
        "       t.goto(290,350)\n",
        "       t.goto(160,200)\n",
        "       t.goto(50,350)\n",
        "       t.up(); t.goto(150,140);t.down()\n",
        "       t.goto(150,160)\n",
        "       t.up(); t.goto(250,140);t.down()\n",
        "       t.goto(250,160)\n",
        "       t.up(); t.goto(50,250);t.down()\n",
        "       t.goto(30,300)\n",
        "       t.up(); t.goto(350,250);t.down()\n",
        "       t.goto(370,300)\n",
        "    elif choice_card == 2:\n",
        "       t.bgcolor(0,0,0)\n",
        "       t.color(255,255,0)\n",
        "       t.up(); t.goto(50,50);t.down()\n",
        "       t.goto(350,50)\n",
        "       t.goto(350,200)\n",
        "       t.goto(50,200)\n",
        "       t.goto(50,50)\n",
        "       t.up(); t.goto(50,50);t.down()\n",
        "       t.up(); t.goto(150,100);t.down()\n",
        "       t.goto(150,150)\n",
        "       t.up(); t.goto(275,100);t.down()\n",
        "       t.goto(250,125)\n",
        "       t.goto(275,150)\n",
        "       t.up(); t.goto(50,140);t.down()\n",
        "       t.goto(30,160)\n",
        "       t.up(); t.goto(350,140);t.down()\n",
        "       t.goto(370,160)\n",
        "       t.up(); t.goto(150,200);t.down()\n",
        "       t.goto(150,350)\n",
        "       t.up(); t.goto(250,200);t.down()\n",
        "       t.goto(250,300)\n",
        "       t.goto(300,250)\n",
        "    elif choice_card == 3:\n",
        "      t.bgcolor(0,0,0)\n",
        "      t.color(0,255,255)\n",
        "      t.up(); t.goto(50,50);t.down()\n",
        "      t.goto(350,50)\n",
        "      t.goto(350,350)\n",
        "      t.goto(50,350)\n",
        "      t.goto(50,50)\n",
        "      t.goto(50,120)\n",
        "      t.goto(100,120)\n",
        "      t.goto(100,70)\n",
        "      t.goto(150,70)\n",
        "      t.goto(150,170)\n",
        "      t.goto(100,170)\n",
        "      t.goto(100,120)\n",
        "      t.up(); t.goto(350,120);t.down()\n",
        "      t.goto(300,120)\n",
        "      t.goto(300,70)\n",
        "      t.goto(250,70)\n",
        "      t.goto(250,170)\n",
        "      t.goto(300,170)\n",
        "      t.goto(300,120)\n",
        "      t.up(); t.goto(150,120);t.down()\n",
        "      t.goto(250,120)\n",
        "      t.up(); t.goto(150,200);t.down()\n",
        "      t.goto(250,200)\n",
        "      t.up(); t.goto(50,250);t.down()\n",
        "      t.goto(30,300)\n",
        "      t.up(); t.goto(350,250);t.down()\n",
        "      t.goto(370,300)\n",
        "    elif choice_card == 4:\n",
        "      t.bgcolor(0,0,0)\n",
        "      t.color(0,255,255)\n",
        "      t.up(); t.goto(100,50);t.down()\n",
        "      t.goto(300,50)\n",
        "      t.goto(300,350)\n",
        "      t.goto(100,350)\n",
        "      t.goto(100,50)\n",
        "      t.goto(200,50)\n",
        "      t.goto(200,30)\n",
        "      t.up(); t.goto(150,140);t.down()\n",
        "      t.goto(150,160)\n",
        "      t.up(); t.goto(250,140);t.down()\n",
        "      t.goto(250,160)\n",
        "      t.up(); t.goto(100,250);t.down()\n",
        "      t.goto(30,300)\n",
        "      t.up(); t.goto(300,250);t.down()\n",
        "      t.goto(370,300)\n",
        "      t.up(); t.goto(150,250);t.down()\n",
        "      t.goto(150,300)\n",
        "      t.up(); t.goto(250,250);t.down()\n",
        "      t.goto(250,300)\n",
        "      t.up(); t.goto(150,275);t.down()\n",
        "      t.goto(250,275)\n",
        "      t.up(); t.goto(100,200);t.down()\n",
        "      t.goto(300,200)\n",
        "\n",
        "    while True:\n",
        "        print(\"こいつの名前を答えてください。　　＊答えられない場合は「give」と入力してください\")\n",
        "        answer = input()\n",
        "        if answer == \"give\":\n",
        "            print(\"もんじゃ：まだまだだね！！。^^\")\n",
        "            if choice_card == 1:\n",
        "                print(f'もんじゃ：答えは{name1}だよ～ん')\n",
        "                print(\"\");\n",
        "            elif choice_card == 2:\n",
        "                  print(f'もんじゃ：答えは{name2}やで？わかってたよね？？')\n",
        "                  print(\"\");\n",
        "            elif choice_card == 3:\n",
        "                  print(f'もんじゃ：答えは{name3}でっせ')\n",
        "                  print(\"\");\n",
        "            elif choice_card == 4:\n",
        "                  print(f'もんじゃ：答えは{name4}だぜ。覚えてくれよ、、、。')\n",
        "                  print(\"\");\n",
        "            break\n",
        "\n",
        "        if choice_card == 1:\n",
        "            if answer == name1:\n",
        "                print(\"もんじゃ：正解だよ！！やるね！！\")\n",
        "                print(\"\");\n",
        "                break\n",
        "            else :\n",
        "             print(\"不正解!!もう一度！！\")\n",
        "\n",
        "        elif choice_card == 2:\n",
        "            if answer == name2:\n",
        "                print(\"もんじゃ：正解やでー！！\")\n",
        "                print(\"\");\n",
        "                break\n",
        "            else :\n",
        "             print(\"不正解!!もう一度！！\")\n",
        "\n",
        "        elif choice_card == 3:\n",
        "            if answer == name3:\n",
        "                print(\"もんじゃ：正解だぜ、、、\")\n",
        "                print(\"\");\n",
        "                break\n",
        "            else :\n",
        "             print(\"不正解!!もう一度！！\")\n",
        "\n",
        "        elif choice_card == 4:\n",
        "            if answer == name4:\n",
        "                print(\"もんじゃ：正解でっせ！！\")\n",
        "                print(\"\");\n",
        "                break\n",
        "            else :\n",
        "             print(\"不正解!!もう一度！！\")\n",
        "\n",
        "\n",
        "\n",
        "\n",
        "print(\"もんじゃ：ゲーム終了！お疲れ様！！！\")\n",
        "\n",
        "\n"
      ]
    }
  ],
  "metadata": {
    "colab": {
      "provenance": [],
      "include_colab_link": true
    },
    "kernelspec": {
      "display_name": "Python 3",
      "name": "python3"
    },
    "language_info": {
      "name": "python"
    }
  },
  "nbformat": 4,
  "nbformat_minor": 0
}